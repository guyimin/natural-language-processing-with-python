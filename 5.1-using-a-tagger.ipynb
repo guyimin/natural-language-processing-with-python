{
 "cells": [
  {
   "cell_type": "markdown",
   "metadata": {},
   "source": [
    "# 使用词性标注器\n",
    "\n",
    "将词汇按照它们的词性（parts-of-speech, POS）分类以及相应的标注它们的过程被称为**词性标注**（POS tagging）。\n",
    "\n",
    "一个**词性标注器**（POS tagger）处理一个此序列，为每个词附加一个词性标记。nltk 提供了一个内置的英语词性标注器 [nltk.pos_tag](https://www.nltk.org/_modules/nltk/tag.html#pos_tag)，它是使用 Penn Treebank 标记集生成的："
   ]
  },
  {
   "cell_type": "code",
   "execution_count": 1,
   "metadata": {},
   "outputs": [
    {
     "data": {
      "text/plain": [
       "[('And', 'CC'),\n",
       " ('now', 'RB'),\n",
       " ('for', 'IN'),\n",
       " ('something', 'NN'),\n",
       " ('completely', 'RB'),\n",
       " ('different', 'JJ')]"
      ]
     },
     "execution_count": 1,
     "metadata": {},
     "output_type": "execute_result"
    }
   ],
   "source": [
    "import nltk\n",
    "\n",
    "text = nltk.word_tokenize('And now for something completely different')\n",
    "nltk.pos_tag(text)"
   ]
  },
  {
   "cell_type": "markdown",
   "metadata": {},
   "source": [
    "这里 and 是 CC（Coordinating Conjunctions），并列连词；now 和 completely 是 RB（Adverbs），副词；for 是 IN（Prepositions and Subordinating Conjunctions），介词；something 是 NN（Common Nouns），名词；different 是 JJ（Adjectives），形容词。"
   ]
  },
  {
   "cell_type": "code",
   "execution_count": 2,
   "metadata": {},
   "outputs": [
    {
     "data": {
      "text/plain": [
       "[('They', 'PRP'),\n",
       " ('refuse', 'VBP'),\n",
       " ('to', 'TO'),\n",
       " ('permit', 'VB'),\n",
       " ('us', 'PRP'),\n",
       " ('to', 'TO'),\n",
       " ('obtain', 'VB'),\n",
       " ('the', 'DT'),\n",
       " ('refuse', 'NN'),\n",
       " ('permit', 'NN')]"
      ]
     },
     "execution_count": 2,
     "metadata": {},
     "output_type": "execute_result"
    }
   ],
   "source": [
    "text = nltk.word_tokenize('They refuse to permit us to obtain the refuse permit')\n",
    "nltk.pos_tag(text)"
   ]
  },
  {
   "cell_type": "markdown",
   "metadata": {},
   "source": [
    "在这个例子中出现了同形同音异义词，如 refuse 既可以以一般现在时动词（VBP）形式出现，表示”拒绝“，也可以以名词（NN）的形式出现，表示”垃圾“。\n",
    "\n",
    "词性标记和词汇类别很多都源于对文本中词的分布的分析，例如我们使用 text.similar() 方法找出和输入词出现在相同上下文中的其他词："
   ]
  },
  {
   "cell_type": "code",
   "execution_count": null,
   "metadata": {},
   "outputs": [],
   "source": [
    "text = nltk.Text(word.lower() for word in nltk.corpus.brown.words())\n",
    "text.similar('woman')\n",
    "text.similar('bought')\n",
    "text.similar('over')\n",
    "text.similar('the')"
   ]
  },
  {
   "cell_type": "markdown",
   "metadata": {},
   "source": [
    "可以看出搜索 woman 找到名词，搜索 bought 找到的大部分是动词，搜索 over 一般会找到介词，搜索 the 找到几个限定词。"
   ]
  }
 ],
 "metadata": {
  "kernelspec": {
   "display_name": "Python [conda env:anaconda3]",
   "language": "python",
   "name": "conda-env-anaconda3-py"
  },
  "language_info": {
   "codemirror_mode": {
    "name": "ipython",
    "version": 3
   },
   "file_extension": ".py",
   "mimetype": "text/x-python",
   "name": "python",
   "nbconvert_exporter": "python",
   "pygments_lexer": "ipython3",
   "version": "3.6.5"
  }
 },
 "nbformat": 4,
 "nbformat_minor": 2
}
