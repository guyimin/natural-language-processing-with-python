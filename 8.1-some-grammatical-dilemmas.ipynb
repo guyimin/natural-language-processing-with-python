{
 "cells": [
  {
   "cell_type": "markdown",
   "metadata": {},
   "source": [
    "# 一些语法困境\n",
    "\n",
    "## 语言数据和无限可能性\n",
    "\n",
    "自然语言处理面对的一个事实是：句子有无限的可能，而我们只能写有限的程序来分析其结构和发现它们的含义。\n",
    "\n",
    "考虑下面的例子：\n",
    "\n",
    "    a. Usain Bolt broke the 100m record.\n",
    "    b. The Jamaica Observer reported that Usain Bolt broke the 100m record.\n",
    "    c. Andre said The Jamaica Observer reported that Usain Bolt broke the 100m record.\n",
    "    d. I think Andre said the Jamaica Observer reported that Usain Bolt broke the 100m record.\n",
    "\n",
    "可以看出，我们不难构造一个全新的句子，一个在语言的历史上可能从来没有使用过的句子，而所有说这种语言的人都能理解它。"
   ]
  },
  {
   "cell_type": "markdown",
   "metadata": {},
   "source": [
    "## 普遍存在的歧义\n",
    "\n",
    "一个比较有名的关于歧义的例子如下，其中的歧义来自 I shot an elephant in my pajamas 部分：\n",
    "\n",
    "> While hunting in Africa, I shot an elephant in my pajamas. How he got into my pajamas, I don't know.\n",
    "\n",
    "这里我们首先定义一个简单的文法，这个文法允许以两种方式分析句子，取决于介词短语 in my pajamas 是描述大象还是枪击事件。"
   ]
  },
  {
   "cell_type": "code",
   "execution_count": 1,
   "metadata": {},
   "outputs": [
    {
     "name": "stdout",
     "output_type": "stream",
     "text": [
      "(S\n",
      "  (NP I)\n",
      "  (VP\n",
      "    (VP (V shot) (NP (Det an) (N elephant)))\n",
      "    (PP (P in) (NP (Det my) (N pajamas)))))\n",
      "(S\n",
      "  (NP I)\n",
      "  (VP\n",
      "    (V shot)\n",
      "    (NP (Det an) (N elephant) (PP (P in) (NP (Det my) (N pajamas))))))\n"
     ]
    }
   ],
   "source": [
    "import nltk\n",
    "\n",
    "groucho_grammar = nltk.CFG.fromstring(\"\"\"\n",
    "    S -> NP VP\n",
    "    PP -> P NP\n",
    "    NP -> Det N | Det N PP | 'I'\n",
    "    VP -> V NP | VP PP\n",
    "    Det -> 'an' | 'my'\n",
    "    N -> 'elephant' | 'pajamas'\n",
    "    V -> 'shot'\n",
    "    P -> 'in'\n",
    "\"\"\")\n",
    "\n",
    "sent = ['I', 'shot', 'an', 'elephant', 'in', 'my', 'pajamas']\n",
    "parser = nltk.ChartParser(groucho_grammar)\n",
    "for tree in parser.parse(sent):\n",
    "    print(tree)"
   ]
  },
  {
   "cell_type": "markdown",
   "metadata": {},
   "source": [
    "程序产生了两个树状结构，对应了两种不同的分析句子的方式。"
   ]
  }
 ],
 "metadata": {
  "kernelspec": {
   "display_name": "Python [conda env:anaconda3]",
   "language": "python",
   "name": "conda-env-anaconda3-py"
  },
  "language_info": {
   "codemirror_mode": {
    "name": "ipython",
    "version": 3
   },
   "file_extension": ".py",
   "mimetype": "text/x-python",
   "name": "python",
   "nbconvert_exporter": "python",
   "pygments_lexer": "ipython3",
   "version": "3.6.5"
  }
 },
 "nbformat": 4,
 "nbformat_minor": 2
}
