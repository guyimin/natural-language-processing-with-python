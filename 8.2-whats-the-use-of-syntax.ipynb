{
 "cells": [
  {
   "cell_type": "markdown",
   "metadata": {},
   "source": [
    "# 文法有什么用\n",
    "\n",
    "## 超越 n-grams\n",
    "\n",
    "在第 2 章中我们给出了一个使用 bigrams 中的频率信息生成文本的例子，生成短的词序列看上去还可以接受，但一长就迅速退化为无稽之谈，例如下面自动生成的“词沙拉\":\n",
    "\n",
    "    a. He roared with me the pail slip down his back.\n",
    "    b. The worst part and clumsy looking for whoever heard light.\n",
    "    \n",
    "在例子 b 中，the worst part and clumsy looking 是通过并列连词 and 连结在一起的。连词有这么一个特性，如果 v1 和 v2 都是文法类型 X 的短语，那么 v1 and v2 也是 X 类型的短语：\n",
    "\n",
    "    a. The book's ending was (NP the worst part and the best part) for me.\n",
    "    b. On land they are (AP slow and clumsy looking).\n",
    "    \n",
    "可以看出，两个 NP（名词短语）连结在一起组成一个 NP，两个 AP（形容词短语）连结在一起组成一个 AP。我们不能做的是连结一个 NP 和一个 AP，这就是为什么 the worst part and clumsy looking 不合语法的原因。\n",
    "\n",
    "为了形式化上述分析，我们提出了**成分结构**的概念。**成分结构**是基于对词和其他词结合在一起形成的单元的观察。一个词序列可以形成这样一个单元的证据是它是可替代的，也就是说，在一个符合语法规则的句子中的词序列可以被一个更小的序列替代而不会导致句子不符合语法规则，例如在下面的例子中，我们可以用 He 来替代 The little bear：\n",
    "\n",
    "    The little bear saw the fine fat trout in the brook.\n",
    "    \n",
    "我们不断地用较短的序列替代较长的序列，最终得到只有两个元素的句子：\n",
    "\n",
    "![ic_diagram_labeled.png](resources/ic_diagram_labeled.png)\n",
    "\n",
    "用树的结果来表示如下图，树的每个节点都是一个**成分**，S 的直接成分是 NP 和 VP。\n",
    "\n",
    "![ch08-tree-3.png](resources/ch08-tree-3.png)"
   ]
  }
 ],
 "metadata": {
  "kernelspec": {
   "display_name": "Python [conda env:anaconda3]",
   "language": "python",
   "name": "conda-env-anaconda3-py"
  },
  "language_info": {
   "codemirror_mode": {
    "name": "ipython",
    "version": 3
   },
   "file_extension": ".py",
   "mimetype": "text/x-python",
   "name": "python",
   "nbconvert_exporter": "python",
   "pygments_lexer": "ipython3",
   "version": "3.6.5"
  }
 },
 "nbformat": 4,
 "nbformat_minor": 2
}
