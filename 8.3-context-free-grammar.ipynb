{
 "cells": [
  {
   "cell_type": "markdown",
   "metadata": {},
   "source": [
    "# 上下文无关文法\n",
    "\n",
    "## 一种简单的文法\n",
    "\n",
    "上下文无关文法（context-free grammar，CFG）通常由形如 V -> w 的产生规则组成，取名为“上下文无关”的原因是因为字符 V 总可以被字串 w 自由替换，而无需考虑字符 V 出现的上下文。在 NLTK 中，上下文无关文法定义在 nltk.grammar 模块中，按照惯例，第一条产生式的左端是文法的**开始符号**，通常是 S，所有符合语法规则的树都必须有这个符号作为它们的根标签。"
   ]
  },
  {
   "cell_type": "code",
   "execution_count": 1,
   "metadata": {},
   "outputs": [
    {
     "name": "stdout",
     "output_type": "stream",
     "text": [
      "(S (NP Mary) (VP (V saw) (NP Bob)))\n"
     ]
    }
   ],
   "source": [
    "import nltk\n",
    "\n",
    "grammar1 = nltk.CFG.fromstring(\"\"\"\n",
    "    S -> NP VP\n",
    "    VP -> V NP | V NP PP\n",
    "    V -> 'saw' | 'ate' | 'walked'\n",
    "    NP -> 'John' | 'Mary' | 'Bob' | Det N | Det N PP\n",
    "    Det -> 'a' | 'an' | 'the' | 'my'\n",
    "    N -> 'man' | 'dog' | 'cat' | 'telescope' | 'park'\n",
    "    P -> 'in' | 'on' | 'by' | 'with'\n",
    "\"\"\")\n",
    "\n",
    "sent = 'Mary saw Bob'.split()\n",
    "rd_parser = nltk.RecursiveDescentParser(grammar1)\n",
    "for tree in rd_parser.parse(sent):\n",
    "    print(tree)"
   ]
  },
  {
   "cell_type": "markdown",
   "metadata": {},
   "source": [
    "文法字符串中的每一行代表一条产生式，产生式中的 | 符号表示“或”的意思，其中涉及到的各种句法类型可以参照下表：\n",
    "\n",
    "| 符号 | 意思     | 例子             |\n",
    "|------|----------|------------------|\n",
    "| S    | 句子     | the man walked   |\n",
    "| NP   | 名词短语 | a dog            |\n",
    "| VP   | 动词短语 | saw a park       |\n",
    "| PP   | 介词短语 | with a telescope |\n",
    "| Det  | 限定词   | the              |\n",
    "| N    | 名词     | dog              |\n",
    "| V    | 动词     | walked           |\n",
    "| P    | 介词     | in               |\n",
    "\n",
    "我们还可以使用图形界面 [nltk.app.rdparser](https://www.nltk.org/_modules/nltk/app/rdparser_app.html#app) 查看文法分析的全过程："
   ]
  },
  {
   "cell_type": "code",
   "execution_count": 2,
   "metadata": {},
   "outputs": [],
   "source": [
    "nltk.app.rdparser()"
   ]
  },
  {
   "cell_type": "markdown",
   "metadata": {},
   "source": [
    "![parse_rdparsewindow.png](resources/parse_rdparsewindow.png)"
   ]
  },
  {
   "cell_type": "markdown",
   "metadata": {},
   "source": [
    "## 写你自己的文法\n",
    "\n",
    "可以将上面的文法字符串保存在文件中，然后通过 [nltk.data.load()](http://www.nltk.org/_modules/nltk/data.html#load) 方法加载，需要注意的是确保文法文件名后缀为 .cfg ："
   ]
  },
  {
   "cell_type": "code",
   "execution_count": 3,
   "metadata": {},
   "outputs": [
    {
     "name": "stdout",
     "output_type": "stream",
     "text": [
      "(S (NP Mary) (VP (V saw) (NP Bob)))\n"
     ]
    }
   ],
   "source": [
    "grammar1 = nltk.data.load('file:mygrammar.cfg')\n",
    "sent = 'Mary saw Bob'.split()\n",
    "rd_parser = nltk.RecursiveDescentParser(grammar1)\n",
    "for tree in rd_parser.parse(sent):\n",
    "    print(tree)"
   ]
  },
  {
   "cell_type": "markdown",
   "metadata": {},
   "source": [
    "## 句法结构中的递归\n",
    "\n",
    "一个文法被认为是递归的，如果文法类型出现在产生式左侧也出现在右侧。在下面的文法中，产生式 Nom -> Adj Nom（其中 Nom 是名词性的类别）包含 Nom 类型的**直接递归**，而产生式 S -> NP VP 和 VP -> V S 的组合构成了关于 S 的**间接递归**："
   ]
  },
  {
   "cell_type": "code",
   "execution_count": 4,
   "metadata": {},
   "outputs": [],
   "source": [
    "grammar2 = nltk.CFG.fromstring(\"\"\"\n",
    "    S -> NP VP\n",
    "    NP -> Det Nom | PropN\n",
    "    Nom -> Adj Nom | N\n",
    "    VP -> V Adj | V NP | V S | V NP PP\n",
    "    PP -> P NP\n",
    "    PropN -> 'Buster' | 'Chatterer' | 'Joe'\n",
    "    Det -> 'the' | 'a'\n",
    "    N -> 'bear' | 'squirrel' | 'tree' | 'fish' | 'log'\n",
    "    Adj -> 'angry' | 'frightened' | 'little' | 'tall'\n",
    "    V -> 'chased' | 'saw' | 'said' | 'thought' | 'was' | 'put'\n",
    "    P -> 'on'\n",
    "\"\"\")\n",
    "\n",
    "rd_parser = nltk.RecursiveDescentParser(grammar2)\n",
    "\n",
    "for tree in rd_parser.parse('the angry bear chased the frightened little squirrel'.split()):\n",
    "    tree.draw()\n",
    "    \n",
    "for tree in rd_parser.parse('Chatterer said Buster thought the tree was tall'.split()):\n",
    "    tree.draw()"
   ]
  },
  {
   "cell_type": "markdown",
   "metadata": {},
   "source": [
    "![ch08-tree-6.png](resources/ch08-tree-6.png)\n",
    "![ch08-tree-7.png](resources/ch08-tree-7.png)"
   ]
  }
 ],
 "metadata": {
  "kernelspec": {
   "display_name": "Python [conda env:anaconda3]",
   "language": "python",
   "name": "conda-env-anaconda3-py"
  },
  "language_info": {
   "codemirror_mode": {
    "name": "ipython",
    "version": 3
   },
   "file_extension": ".py",
   "mimetype": "text/x-python",
   "name": "python",
   "nbconvert_exporter": "python",
   "pygments_lexer": "ipython3",
   "version": "3.6.5"
  }
 },
 "nbformat": 4,
 "nbformat_minor": 2
}
