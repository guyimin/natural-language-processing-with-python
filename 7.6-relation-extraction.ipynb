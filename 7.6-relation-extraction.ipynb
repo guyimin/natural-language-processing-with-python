{
 "cells": [
  {
   "cell_type": "markdown",
   "metadata": {},
   "source": [
    "# 关系抽取\n",
    "\n",
    "一旦文本中的命名实体被识别，我们就可以提取它们之间存在的关系，通常我们会寻找指定类型的命名实体之间的关系。进行这一任务的方法之一时首先寻找所有（X，a，Y）形式的三元组，其中 X 和 Y 是指定类型的命名实体，a 表示 X 和 Y 之间关系的字符串，然后我们可以使用正则表达式从 a 中抽出我们正在查找的关系。\n",
    "\n",
    "下面的例子搜索包含词 in 的字符串，特殊的正则表达式 (?!\\b.+ing) 是一个否则预测先行断言，允许我们忽略 success in supervising the transition of 这样 in 后面跟一个动名词的字符串："
   ]
  },
  {
   "cell_type": "code",
   "execution_count": 1,
   "metadata": {},
   "outputs": [
    {
     "name": "stdout",
     "output_type": "stream",
     "text": [
      "[ORG: 'WHYY'] 'in' [LOC: 'Philadelphia']\n",
      "[ORG: 'McGlashan &AMP; Sarrail'] 'firm in' [LOC: 'San Mateo']\n",
      "[ORG: 'Freedom Forum'] 'in' [LOC: 'Arlington']\n",
      "[ORG: 'Brookings Institution'] ', the research group in' [LOC: 'Washington']\n",
      "[ORG: 'Idealab'] ', a self-described business incubator based in' [LOC: 'Los Angeles']\n",
      "[ORG: 'Open Text'] ', based in' [LOC: 'Waterloo']\n",
      "[ORG: 'WGBH'] 'in' [LOC: 'Boston']\n",
      "[ORG: 'Bastille Opera'] 'in' [LOC: 'Paris']\n",
      "[ORG: 'Omnicom'] 'in' [LOC: 'New York']\n",
      "[ORG: 'DDB Needham'] 'in' [LOC: 'New York']\n",
      "[ORG: 'Kaplan Thaler Group'] 'in' [LOC: 'New York']\n",
      "[ORG: 'BBDO South'] 'in' [LOC: 'Atlanta']\n",
      "[ORG: 'Georgia-Pacific'] 'in' [LOC: 'Atlanta']\n"
     ]
    }
   ],
   "source": [
    "import nltk\n",
    "import re\n",
    "\n",
    "IN = re.compile(r'.*\\bin\\b(?!\\b.+ing)')\n",
    "for doc in nltk.corpus.ieer.parsed_docs('NYT_19980315'):\n",
    "    for rel in nltk.sem.extract_rels('ORG', 'LOC', doc, corpus='ieer', pattern=IN):\n",
    "        print(nltk.sem.rtuple(rel))"
   ]
  },
  {
   "cell_type": "markdown",
   "metadata": {},
   "source": [
    "搜索关键字 in 执行的相当不错，虽然它的检索结果有时候也会误报。\n",
    "\n",
    "CoNLL 2002 命名实体语料库的荷兰语部分不止包含命名实体标注，也包含词性标注，这允许我们设计对这些标记敏感的模式，如下面的例子所示，通过 [extract_rels](https://www.nltk.org/_modules/nltk/sem/relextract.html#extract_rels) 方法过滤出满足条件的命名实体，并用 [clause](https://www.nltk.org/_modules/nltk/sem/relextract.html#clause) 方法展示出来："
   ]
  },
  {
   "cell_type": "code",
   "execution_count": 2,
   "metadata": {},
   "outputs": [
    {
     "name": "stdout",
     "output_type": "stream",
     "text": [
      "[PER: \"Cornet/V d'Elzius/N\"] 'is/V op/Prep dit/Pron ogenblik/N kabinetsadviseur/N van/Prep staatssecretaris/N voor/Prep' [ORG: 'Buitenlandse/N Handel/N']\n",
      "VAN(\"cornet_d'elzius\", 'buitenlandse_handel')\n",
      "[PER: 'Johan/N Rottiers/N'] 'is/V informaticacoördinator/N van/Prep het/Art' [ORG: 'Kardinaal/N Van/N Roey/N Instituut/N']\n",
      "VAN('johan_rottiers', 'kardinaal_van_roey_instituut')\n",
      "[PER: 'Annie/N Lennox/N'] 'wordt/V het/Art concert/N van/Prep' [ORG: 'Eurythmics/N']\n",
      "VAN('annie_lennox', 'eurythmics')\n"
     ]
    }
   ],
   "source": [
    "from nltk.corpus import conll2002\n",
    "\n",
    "vnv = \"\"\"\n",
    "    (\n",
    "    is/V|    # 3rd sing present and\n",
    "    was/V|   # past forms of the verb zijn ('be')\n",
    "    werd/V|  # and also present\n",
    "    wordt/V  # past of worden ('become)\n",
    "    )\n",
    "    .*      # followed by anything\n",
    "    van/Prep # followed by van ('of')\n",
    "\"\"\"\n",
    "VAN = re.compile(vnv, re.VERBOSE)\n",
    "for doc in conll2002.chunked_sents('ned.train'):\n",
    "    for r in nltk.sem.extract_rels('PER', 'ORG', doc, corpus='conll2002', pattern=VAN):\n",
    "        print(nltk.sem.rtuple(r))\n",
    "        print(nltk.sem.clause(r, relsym=\"VAN\"))"
   ]
  }
 ],
 "metadata": {
  "kernelspec": {
   "display_name": "Python [conda env:anaconda3]",
   "language": "python",
   "name": "conda-env-anaconda3-py"
  },
  "language_info": {
   "codemirror_mode": {
    "name": "ipython",
    "version": 3
   },
   "file_extension": ".py",
   "mimetype": "text/x-python",
   "name": "python",
   "nbconvert_exporter": "python",
   "pygments_lexer": "ipython3",
   "version": "3.6.5"
  }
 },
 "nbformat": 4,
 "nbformat_minor": 2
}
