{
 "cells": [
  {
   "cell_type": "markdown",
   "metadata": {},
   "source": [
    "# 处理特征结构\n",
    "\n",
    "NLTK 中的特征结构使用构造函数 [nltk.FeatStruct](http://www.nltk.org/_modules/nltk/featstruct.html#FeatStruct) 声明，原子特征值可以是字符串或整数："
   ]
  },
  {
   "cell_type": "code",
   "execution_count": 1,
   "metadata": {},
   "outputs": [
    {
     "name": "stdout",
     "output_type": "stream",
     "text": [
      "[ NUM   = 'sg'   ]\n",
      "[ TENSE = 'past' ]\n"
     ]
    }
   ],
   "source": [
    "import nltk\n",
    "\n",
    "fs1 = nltk.FeatStruct(TENSE='past', NUM='sg')\n",
    "print(fs1)"
   ]
  },
  {
   "cell_type": "markdown",
   "metadata": {},
   "source": [
    "一个特征结构实际上只是一种字典，所以我们可以通过索引访问它的值，也可以指定某些特征的值："
   ]
  },
  {
   "cell_type": "code",
   "execution_count": 2,
   "metadata": {},
   "outputs": [
    {
     "name": "stdout",
     "output_type": "stream",
     "text": [
      "fem\n"
     ]
    }
   ],
   "source": [
    "fs1 = nltk.FeatStruct(PER=3, NUM='pl', GND='fem')\n",
    "print(fs1['GND'])\n",
    "fs1['CASE'] = 'acc'"
   ]
  },
  {
   "cell_type": "markdown",
   "metadata": {},
   "source": [
    "我们还可以为特征结构定义更复杂的值："
   ]
  },
  {
   "cell_type": "code",
   "execution_count": 3,
   "metadata": {},
   "outputs": [
    {
     "name": "stdout",
     "output_type": "stream",
     "text": [
      "[       [ CASE = 'acc' ] ]\n",
      "[ AGR = [ GND  = 'fem' ] ]\n",
      "[       [ NUM  = 'pl'  ] ]\n",
      "[       [ PER  = 3     ] ]\n",
      "[                        ]\n",
      "[ POS = 'N'              ]\n",
      "\n",
      "[ CASE = 'acc' ]\n",
      "[ GND  = 'fem' ]\n",
      "[ NUM  = 'pl'  ]\n",
      "[ PER  = 3     ]\n",
      "\n",
      "3\n"
     ]
    }
   ],
   "source": [
    "fs2 = nltk.FeatStruct(POS='N', AGR=fs1)\n",
    "print(fs2, end='\\n\\n')\n",
    "print(fs2['AGR'], end='\\n\\n')\n",
    "print(fs2['AGR']['PER'])"
   ]
  },
  {
   "cell_type": "markdown",
   "metadata": {},
   "source": [
    "指定特征结构的另一种方法是使用方括号括起来包含 feature = value 格式的特征-值对的的字符串，其中值本身可能是特征结构："
   ]
  },
  {
   "cell_type": "code",
   "execution_count": 4,
   "metadata": {},
   "outputs": [
    {
     "name": "stdout",
     "output_type": "stream",
     "text": [
      "[       [ GND = 'fem' ] ]\n",
      "[ AGR = [ NUM = 'pl'  ] ]\n",
      "[       [ PER = 3     ] ]\n",
      "[                       ]\n",
      "[ POS = 'N'             ]\n"
     ]
    }
   ],
   "source": [
    "print(nltk.FeatStruct(\"[POS='N', AGR=[PER=3, NUM='pl', GND='fem']]\"))"
   ]
  },
  {
   "cell_type": "markdown",
   "metadata": {},
   "source": [
    "特征结构本身不依赖于语言对象，它们是表示知识的通用结构。例如：我们可以将要给人的信息用特征结构编码："
   ]
  },
  {
   "cell_type": "code",
   "execution_count": 5,
   "metadata": {},
   "outputs": [
    {
     "name": "stdout",
     "output_type": "stream",
     "text": [
      "[ AGE   = 33               ]\n",
      "[ NAME  = 'Lee'            ]\n",
      "[ TELNO = '01 27 86 42 96' ]\n"
     ]
    }
   ],
   "source": [
    "print(nltk.FeatStruct(NAME='Lee', TELNO='01 27 86 42 96', AGE=33))"
   ]
  },
  {
   "cell_type": "markdown",
   "metadata": {},
   "source": [
    "我们可以将特征结构作为**有向无环图**（directed acyclic graphs，DAGs）来查看，特征名称作为弧上的标签出现，特征值作为弧指向的节点的标签出现：\n",
    "\n",
    "![dag01.png](resources/dag01.png)\n",
    "\n",
    "特征值也可以是复杂类型的，如下图。我们用标签的元组来表示路径，那么（'ADDRESS', 'STREET'）就是一个特征路径，它的值是标签为 rue Pascal 的节点。\n",
    "\n",
    "![dag02.png](resources/dag02.png)\n",
    "\n",
    "现在我们考虑这么一种情况：Lee 有一个配偶叫做 Kim，Kim 的地址和 Lee 相同，可以如下图这样表示：\n",
    "\n",
    "![dag03.png](resources/dag03.png)\n",
    "\n",
    "我们可以简化上图，让不同的弧“共享”同一个子图：\n",
    "\n",
    "![dag04.png](resources/dag04.png)\n",
    "\n",
    "这种共享子图的方式被称为**结构共享**或**重入**，在 NLTK 中我们可以在共享的特征结构第一次出现的地方加上一个括号阔起的数字前缀，例如 (1) 来实现它，以后任何对这个结构的引用将使用符号 -> (1)："
   ]
  },
  {
   "cell_type": "code",
   "execution_count": 6,
   "metadata": {},
   "outputs": [
    {
     "name": "stdout",
     "output_type": "stream",
     "text": [
      "[ ADDRESS = (1) [ NUM    = 74           ] ]\n",
      "[               [ STREET = 'rue Pascal' ] ]\n",
      "[                                         ]\n",
      "[ NAME    = 'Lee'                         ]\n",
      "[                                         ]\n",
      "[ SPOUSE  = [ ADDRESS -> (1)  ]           ]\n",
      "[           [ NAME    = 'Kim' ]           ]\n"
     ]
    }
   ],
   "source": [
    "print(nltk.FeatStruct(\"\"\"[NAME='Lee', ADDRESS=(1)[NUM=74, STREET='rue Pascal'],\n",
    "                        SPOUSE=[NAME='Kim', ADDRESS->(1)]]\"\"\"))"
   ]
  },
  {
   "cell_type": "markdown",
   "metadata": {},
   "source": [
    "## 包含和统一\n",
    "\n",
    "特征结构可以按照其通用的程度进行排序，例如在下面的例子中，a 比 b 更一般（更少特征），b 比 c 更一般。这个顺序被称为**包含**，更一般的说法是，如果 FS1 包含了 FS0 中的所有信息，那么我们就说 FS0 被 FS1 包含，用符号 ⊑ 来表示：\n",
    "\n",
    "    a. [NUMBER = 74]\n",
    "\n",
    "    b. [NUMBER = 74          ]\n",
    "       [STREET = 'rue Pascal']\n",
    "\n",
    "    c. [NUMBER = 74          ]\n",
    "       [STREET = 'rue Pascal']\n",
    "       [CITY = 'Paris'       ]\n",
    "       \n",
    "如果 FSO 被 FS1 所包含，即 FS0 ⊑ FS1，那么 FS1 必须具备 FS0 的所有路径，同时它也可能有其自己的额外路径。显而易见，d 既不包含 a 也不被 a 包含：\n",
    "       \n",
    "    d. [TELNO = 01 27 86 42 96]\n",
    "  \n",
    "综上所述，某些特征结构会比其它的包含更多的信息，那么我们如何将这么多出来的信息添加给指定的特征结构呢？例如：我们觉得决定地址应该包含的不只是门牌号和街道名称，还应该包含城市名，也就是说我们要把下面例子中的图 b 合并到图 a 上产生图 c：\n",
    "    \n",
    "a. ![dag04-1.png](resources/dag04-1.png)\n",
    "\n",
    "b. ![dag04-2.png](resources/dag04-2.png)\n",
    "\n",
    "c. ![dag04-3.png](resources/dag04-3.png)\n",
    "\n",
    "合并两个特征结构的信息被称为**统一**，由方法 unify() 来实现："
   ]
  },
  {
   "cell_type": "code",
   "execution_count": 7,
   "metadata": {},
   "outputs": [
    {
     "name": "stdout",
     "output_type": "stream",
     "text": [
      "[ CITY   = 'Pairs'      ]\n",
      "[ NUMBER = 74           ]\n",
      "[ STREET = 'rue Pascal' ]\n"
     ]
    }
   ],
   "source": [
    "fs1 = nltk.FeatStruct(NUMBER=74, STREET='rue Pascal')\n",
    "fs2 = nltk.FeatStruct(CITY='Pairs')\n",
    "print(fs1.unify(fs2))"
   ]
  },
  {
   "cell_type": "markdown",
   "metadata": {},
   "source": [
    "统一的符号化表示为 FS0 ⊔ FS1，它是一个对称操作，所以 FS0 ⊔ FS1 = FS1 ⊔ FS0："
   ]
  },
  {
   "cell_type": "code",
   "execution_count": 8,
   "metadata": {},
   "outputs": [
    {
     "name": "stdout",
     "output_type": "stream",
     "text": [
      "[ CITY   = 'Pairs'      ]\n",
      "[ NUMBER = 74           ]\n",
      "[ STREET = 'rue Pascal' ]\n"
     ]
    }
   ],
   "source": [
    "print(fs2.unify(fs1))"
   ]
  },
  {
   "cell_type": "markdown",
   "metadata": {},
   "source": [
    "如果统一两个特征结构具有包含关系，那么统一的结果是更具体的那个特征结构，也就是说如果 FS0 ⊑ FS1，那么 FS0 ⊔ FS1 = FS1；如果统一的两个特征结构共享某个路径，但路径的值不同，那么统一将会失败，并返回结果 None："
   ]
  },
  {
   "cell_type": "code",
   "execution_count": 9,
   "metadata": {},
   "outputs": [
    {
     "name": "stdout",
     "output_type": "stream",
     "text": [
      "None\n"
     ]
    }
   ],
   "source": [
    "fs0 = nltk.FeatStruct(A='a')\n",
    "fs1 = nltk.FeatStruct(A='b')\n",
    "print(fs0.unify(fs1))"
   ]
  },
  {
   "cell_type": "markdown",
   "metadata": {},
   "source": [
    "现在，我们来看一下统一如何与结构共享相互作用的："
   ]
  },
  {
   "cell_type": "code",
   "execution_count": 10,
   "metadata": {},
   "outputs": [
    {
     "name": "stdout",
     "output_type": "stream",
     "text": [
      "[ ADDRESS = [ NUMBER = 74           ]               ]\n",
      "[           [ STREET = 'rue Pascal' ]               ]\n",
      "[                                                   ]\n",
      "[ NAME    = 'Lee'                                   ]\n",
      "[                                                   ]\n",
      "[           [ ADDRESS = [ NUMBER = 74           ] ] ]\n",
      "[ SPOUSE  = [           [ STREET = 'rue Pascal' ] ] ]\n",
      "[           [                                     ] ]\n",
      "[           [ NAME    = 'Kim'                     ] ]\n"
     ]
    }
   ],
   "source": [
    "fs0 = nltk.FeatStruct(\"\"\"[NAME=Lee,\n",
    "                          ADDRESS=[NUMBER=74,\n",
    "                                   STREET='rue Pascal'],\n",
    "                          SPOUSE=[NAME=Kim,\n",
    "                                  ADDRESS=[NUMBER=74,\n",
    "                                           STREET='rue Pascal']]]\"\"\")\n",
    "print(fs0)"
   ]
  },
  {
   "cell_type": "markdown",
   "metadata": {},
   "source": [
    "接下来我们为 Kim 的地址指定一个 CITY 作为参数，请注意 fs1 需要包含从特征结构的根节点到 CITY 的整个路径："
   ]
  },
  {
   "cell_type": "code",
   "execution_count": 11,
   "metadata": {},
   "outputs": [
    {
     "name": "stdout",
     "output_type": "stream",
     "text": [
      "[ ADDRESS = [ NUMBER = 74           ]               ]\n",
      "[           [ STREET = 'rue Pascal' ]               ]\n",
      "[                                                   ]\n",
      "[ NAME    = 'Lee'                                   ]\n",
      "[                                                   ]\n",
      "[           [           [ CITY   = 'Paris'      ] ] ]\n",
      "[           [ ADDRESS = [ NUMBER = 74           ] ] ]\n",
      "[ SPOUSE  = [           [ STREET = 'rue Pascal' ] ] ]\n",
      "[           [                                     ] ]\n",
      "[           [ NAME    = 'Kim'                     ] ]\n"
     ]
    }
   ],
   "source": [
    "fs1 = nltk.FeatStruct(\"[SPOUSE = [ADDRESS = [CITY = Paris]]]\")\n",
    "print(fs1.unify(fs0))"
   ]
  },
  {
   "cell_type": "markdown",
   "metadata": {},
   "source": [
    "我们把 fs0 替换为 fs2 这一结构共享版本，可以看出两个地方的 ADDRESS 都添加了 CITY 特征："
   ]
  },
  {
   "cell_type": "code",
   "execution_count": 12,
   "metadata": {},
   "outputs": [
    {
     "name": "stdout",
     "output_type": "stream",
     "text": [
      "[               [ CITY   = 'Paris'      ] ]\n",
      "[ ADDRESS = (1) [ NUMBER = 74           ] ]\n",
      "[               [ STREET = 'rue Pascal' ] ]\n",
      "[                                         ]\n",
      "[ NAME    = 'Lee'                         ]\n",
      "[                                         ]\n",
      "[ SPOUSE  = [ ADDRESS -> (1)  ]           ]\n",
      "[           [ NAME    = 'Kim' ]           ]\n"
     ]
    }
   ],
   "source": [
    "fs2 = nltk.FeatStruct(\"\"\"[NAME=Lee, ADDRESS=(1)[NUMBER=74, STREET='rue Pascal'],\n",
    "                          SPOUSE=[NAME=Kim, ADDRESS->(1)]]\"\"\")\n",
    "print(fs1.unify(fs2))"
   ]
  },
  {
   "cell_type": "markdown",
   "metadata": {},
   "source": [
    "结构共享也可以使用变量表示，如 ?n："
   ]
  },
  {
   "cell_type": "code",
   "execution_count": 13,
   "metadata": {},
   "outputs": [
    {
     "name": "stdout",
     "output_type": "stream",
     "text": [
      "[ ADDRESS1 = ?n ]\n",
      "[ ADDRESS2 = ?n ]\n",
      "\n",
      "[ ADDRESS1 = (1) [ NUMBER = 74           ] ]\n",
      "[                [ STREET = 'rue Pascal' ] ]\n",
      "[                                          ]\n",
      "[ ADDRESS2 -> (1)                          ]\n"
     ]
    }
   ],
   "source": [
    "fs1 = nltk.FeatStruct(\"[ADDRESS1=[NUMBER=74, STREET='rue Pascal']]\")\n",
    "fs2 = nltk.FeatStruct(\"[ADDRESS1=?n, ADDRESS2=?n]\")\n",
    "print(fs2, end='\\n\\n')\n",
    "print(fs2.unify(fs1))"
   ]
  }
 ],
 "metadata": {
  "kernelspec": {
   "display_name": "Python [conda env:anaconda3]",
   "language": "python",
   "name": "conda-env-anaconda3-py"
  },
  "language_info": {
   "codemirror_mode": {
    "name": "ipython",
    "version": 3
   },
   "file_extension": ".py",
   "mimetype": "text/x-python",
   "name": "python",
   "nbconvert_exporter": "python",
   "pygments_lexer": "ipython3",
   "version": "3.6.5"
  }
 },
 "nbformat": 4,
 "nbformat_minor": 2
}
