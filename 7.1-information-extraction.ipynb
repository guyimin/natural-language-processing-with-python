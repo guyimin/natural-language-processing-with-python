{
 "cells": [
  {
   "attachments": {},
   "cell_type": "markdown",
   "metadata": {},
   "source": [
    "# 信息提取\n",
    "\n",
    "**信息提取**是从一种从文本获取意义的方法，也就是将自然语言句子这样的**非结构化数据**转换成**结构化数据**的过程。\n",
    "\n",
    "## 信息提取结构\n",
    "\n",
    "下图显示了一个简单的信息提取系统的结构：首先，使用句子分割器将该文档的原始文本分割成句，使用分词器将每个句子进一步细分为词。接下来，对每个句子进行词性标注，并在下一步**命名实体识别**中寻找每个句子中提到的潜在的有趣实体。最后，使用**关系识别**搜索文本中不同实体之间的可能关系。\n",
    "\n",
    "![ie-architecture.png](resources/ie-architecture.png)\n",
    "\n",
    "要执行前面三项任务，我们可以定义一个函数，简单地链接 NLTK 中默认的句子分割器、分词器和词性标注器："
   ]
  },
  {
   "cell_type": "code",
   "execution_count": 1,
   "metadata": {},
   "outputs": [],
   "source": [
    "def ie_preprocess(document):\n",
    "    sentences = nltk.sent_tokenize(document)\n",
    "    sentences = [nltk.word_tokenize(sent) for sent in sentences]\n",
    "    sentences = [nltk.pos_tag(sent) for sent in sentences]"
   ]
  },
  {
   "cell_type": "markdown",
   "metadata": {},
   "source": [
    "接下来，命名实体识别中，我们分割和标注可能组成一个有趣关系的实体，通常情况下这些将被定义为名词短语。\n",
    "\n",
    "最后，在提取关系时，我们搜索本文中出现在附近的实体对之间的特殊模式，并使用这些模式建立元组记录实体之间的关系。"
   ]
  }
 ],
 "metadata": {
  "kernelspec": {
   "display_name": "Python [conda env:anaconda3]",
   "language": "python",
   "name": "conda-env-anaconda3-py"
  },
  "language_info": {
   "codemirror_mode": {
    "name": "ipython",
    "version": 3
   },
   "file_extension": ".py",
   "mimetype": "text/x-python",
   "name": "python",
   "nbconvert_exporter": "python",
   "pygments_lexer": "ipython3",
   "version": "3.6.5"
  }
 },
 "nbformat": 4,
 "nbformat_minor": 2
}
